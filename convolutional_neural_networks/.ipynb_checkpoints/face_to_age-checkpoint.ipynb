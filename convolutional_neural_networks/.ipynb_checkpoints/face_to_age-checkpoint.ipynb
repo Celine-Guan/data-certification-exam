{
 "cells": [
  {
   "cell_type": "markdown",
   "metadata": {
    "id": "WCk2YEqBhdP2"
   },
   "source": [
    "# Face Detection Challenge"
   ]
  },
  {
   "cell_type": "code",
   "execution_count": 1,
   "metadata": {
    "executionInfo": {
     "elapsed": 3224,
     "status": "ok",
     "timestamp": 1615229786391,
     "user": {
      "displayName": "Bruno Lajoie",
      "photoUrl": "https://lh3.googleusercontent.com/a-/AOh14Gg0dl6gThG8gOPbCvHbgt62zQnsi8cgbQ7C5HkD_Cg=s64",
      "userId": "15793030209206844069"
     },
     "user_tz": -60
    },
    "id": "ZH4sxIwVqhAV"
   },
   "outputs": [],
   "source": [
    "import numpy as np \n",
    "import pandas as pd"
   ]
  },
  {
   "cell_type": "markdown",
   "metadata": {
    "id": "JBXc4442fJZV"
   },
   "source": [
    "### Objectives\n",
    "-  visualize images\n",
    "-  preprocess images for Neural Networks\n",
    "-  fit a custom CNN for a regression task\n",
    "-  fine-tune a analyse model performance"
   ]
  },
  {
   "cell_type": "markdown",
   "metadata": {
    "id": "gv76LFXjqzau"
   },
   "source": [
    "## 1. Visualize images"
   ]
  },
  {
   "cell_type": "markdown",
   "metadata": {},
   "source": [
    "👉 Load the dataset (200 Mo)"
   ]
  },
  {
   "cell_type": "code",
   "execution_count": 2,
   "metadata": {
    "executionInfo": {
     "elapsed": 10102,
     "status": "ok",
     "timestamp": 1615229794824,
     "user": {
      "displayName": "Bruno Lajoie",
      "photoUrl": "https://lh3.googleusercontent.com/a-/AOh14Gg0dl6gThG8gOPbCvHbgt62zQnsi8cgbQ7C5HkD_Cg=s64",
      "userId": "15793030209206844069"
     },
     "user_tz": -60
    },
    "id": "2tZUrTCepyPs"
   },
   "outputs": [
    {
     "data": {
      "text/html": [
       "<div>\n",
       "<style scoped>\n",
       "    .dataframe tbody tr th:only-of-type {\n",
       "        vertical-align: middle;\n",
       "    }\n",
       "\n",
       "    .dataframe tbody tr th {\n",
       "        vertical-align: top;\n",
       "    }\n",
       "\n",
       "    .dataframe thead th {\n",
       "        text-align: right;\n",
       "    }\n",
       "</style>\n",
       "<table border=\"1\" class=\"dataframe\">\n",
       "  <thead>\n",
       "    <tr style=\"text-align: right;\">\n",
       "      <th></th>\n",
       "      <th>age</th>\n",
       "      <th>pixels</th>\n",
       "    </tr>\n",
       "  </thead>\n",
       "  <tbody>\n",
       "    <tr>\n",
       "      <th>0</th>\n",
       "      <td>1</td>\n",
       "      <td>129 128 128 126 127 130 133 135 139 142 145 14...</td>\n",
       "    </tr>\n",
       "    <tr>\n",
       "      <th>1</th>\n",
       "      <td>1</td>\n",
       "      <td>164 74 111 168 169 171 175 182 184 188 193 199...</td>\n",
       "    </tr>\n",
       "    <tr>\n",
       "      <th>2</th>\n",
       "      <td>1</td>\n",
       "      <td>67 70 71 70 69 67 70 79 90 103 116 132 145 155...</td>\n",
       "    </tr>\n",
       "    <tr>\n",
       "      <th>3</th>\n",
       "      <td>1</td>\n",
       "      <td>193 197 198 200 199 200 202 203 204 205 208 21...</td>\n",
       "    </tr>\n",
       "    <tr>\n",
       "      <th>4</th>\n",
       "      <td>1</td>\n",
       "      <td>202 205 209 210 209 209 210 211 212 214 218 21...</td>\n",
       "    </tr>\n",
       "    <tr>\n",
       "      <th>...</th>\n",
       "      <td>...</td>\n",
       "      <td>...</td>\n",
       "    </tr>\n",
       "    <tr>\n",
       "      <th>23700</th>\n",
       "      <td>99</td>\n",
       "      <td>127 100 94 81 77 77 74 99 102 98 128 145 160 1...</td>\n",
       "    </tr>\n",
       "    <tr>\n",
       "      <th>23701</th>\n",
       "      <td>99</td>\n",
       "      <td>23 28 32 35 42 47 68 85 98 103 113 117 130 129...</td>\n",
       "    </tr>\n",
       "    <tr>\n",
       "      <th>23702</th>\n",
       "      <td>99</td>\n",
       "      <td>59 50 37 40 34 19 30 101 156 170 177 184 187 1...</td>\n",
       "    </tr>\n",
       "    <tr>\n",
       "      <th>23703</th>\n",
       "      <td>99</td>\n",
       "      <td>45 108 120 156 206 197 140 180 191 199 204 207...</td>\n",
       "    </tr>\n",
       "    <tr>\n",
       "      <th>23704</th>\n",
       "      <td>99</td>\n",
       "      <td>156 161 160 165 170 173 166 177 183 191 187 18...</td>\n",
       "    </tr>\n",
       "  </tbody>\n",
       "</table>\n",
       "<p>23705 rows × 2 columns</p>\n",
       "</div>"
      ],
      "text/plain": [
       "       age                                             pixels\n",
       "0        1  129 128 128 126 127 130 133 135 139 142 145 14...\n",
       "1        1  164 74 111 168 169 171 175 182 184 188 193 199...\n",
       "2        1  67 70 71 70 69 67 70 79 90 103 116 132 145 155...\n",
       "3        1  193 197 198 200 199 200 202 203 204 205 208 21...\n",
       "4        1  202 205 209 210 209 209 210 211 212 214 218 21...\n",
       "...    ...                                                ...\n",
       "23700   99  127 100 94 81 77 77 74 99 102 98 128 145 160 1...\n",
       "23701   99  23 28 32 35 42 47 68 85 98 103 113 117 130 129...\n",
       "23702   99  59 50 37 40 34 19 30 101 156 170 177 184 187 1...\n",
       "23703   99  45 108 120 156 206 197 140 180 191 199 204 207...\n",
       "23704   99  156 161 160 165 170 173 166 177 183 191 187 18...\n",
       "\n",
       "[23705 rows x 2 columns]"
      ]
     },
     "execution_count": 2,
     "metadata": {},
     "output_type": "execute_result"
    }
   ],
   "source": [
    "data = pd.read_csv(\"https://wagon-public-datasets.s3.amazonaws.com/certification_paris_2021Q1/images.csv\")\n",
    "data"
   ]
  },
  {
   "cell_type": "markdown",
   "metadata": {
    "ExecuteTime": {
     "end_time": "2021-03-12T10:04:13.153735Z",
     "start_time": "2021-03-12T10:04:13.148224Z"
    }
   },
   "source": [
    "Each row represent the image of a face in black and white\n",
    "- `age` is the age in year\n",
    "- `pixels` contains the 2304 (= 48 * 48) flatten values of each pixel in the image, in a black scale from 0 to 255, stored as string"
   ]
  },
  {
   "cell_type": "markdown",
   "metadata": {},
   "source": [
    "❓ Plot the histogram of age in your dataset"
   ]
  },
  {
   "cell_type": "code",
   "execution_count": 3,
   "metadata": {},
   "outputs": [
    {
     "data": {
      "text/plain": [
       "<seaborn.axisgrid.FacetGrid at 0x11c8b4a30>"
      ]
     },
     "execution_count": 3,
     "metadata": {},
     "output_type": "execute_result"
    },
    {
     "data": {
      "image/png": "[encoded data removed]",
      "text/plain": [
       "<Figure size 360x360 with 1 Axes>"
      ]
     },
     "metadata": {
      "needs_background": "light"
     },
     "output_type": "display_data"
    }
   ],
   "source": [
    "### TODO\n",
    "import seaborn as sns\n",
    "import matplotlib.pyplot as plt\n",
    "\n",
    "sns.displot(data, x=\"age\")"
   ]
  },
  {
   "cell_type": "markdown",
   "metadata": {
    "id": "JQ1ew-IAwUNL"
   },
   "source": [
    "❓ Visually display one image of your choice."
   ]
  },
  {
   "cell_type": "code",
   "execution_count": 4,
   "metadata": {},
   "outputs": [
    {
     "data": {
      "text/plain": [
       "<matplotlib.image.AxesImage at 0x131ffeca0>"
      ]
     },
     "execution_count": 4,
     "metadata": {},
     "output_type": "execute_result"
    },
    {
     "data": {
      "image/png": "[encoded data removed]",
      "text/plain": [
       "<Figure size 432x288 with 1 Axes>"
      ]
     },
     "metadata": {
      "needs_background": "light"
     },
     "output_type": "display_data"
    }
   ],
   "source": [
    "img_1 = np.fromstring(data.pixels[0],sep=' ').astype(int)\n",
    "img_1 = img_1.reshape(48, 48)\n",
    "plt.imshow(img_1, cmap=plt.cm.gray)"
   ]
  },
  {
   "cell_type": "markdown",
   "metadata": {},
   "source": [
    "❓ What is the physical characteristic of the image at **index** `10000`?"
   ]
  },
  {
   "cell_type": "code",
   "execution_count": 5,
   "metadata": {},
   "outputs": [
    {
     "data": {
      "text/plain": [
       "<matplotlib.image.AxesImage at 0x13205a730>"
      ]
     },
     "execution_count": 5,
     "metadata": {},
     "output_type": "execute_result"
    },
    {
     "data": {
      "image/png": "[encoded data removed]",
      "text/plain": [
       "<Figure size 432x288 with 1 Axes>"
      ]
     },
     "metadata": {
      "needs_background": "light"
     },
     "output_type": "display_data"
    }
   ],
   "source": [
    "img_10000 = np.fromstring(data.pixels[10000],sep=' ').astype(int)\n",
    "img_10000 = img_10000.reshape(48, 48)\n",
    "plt.imshow(img_10000, cmap=plt.cm.gray)"
   ]
  },
  {
   "cell_type": "code",
   "execution_count": 6,
   "metadata": {},
   "outputs": [],
   "source": [
    "# Store your result in the variable below\n",
    "\n",
    "gender = \"male\"\n",
    "# gender = \"female\"\n",
    "\n",
    "# smile = True\n",
    "smile = False"
   ]
  },
  {
   "cell_type": "code",
   "execution_count": 7,
   "metadata": {},
   "outputs": [],
   "source": [
    "from nbresult import ChallengeResult\n",
    "result = ChallengeResult('C14',\n",
    "                         gender=gender,\n",
    "                         smile=smile)\n",
    "result.write()"
   ]
  },
  {
   "cell_type": "markdown",
   "metadata": {
    "id": "AjeMU0GTwFSe"
   },
   "source": [
    "## 2. Processing"
   ]
  },
  {
   "cell_type": "markdown",
   "metadata": {},
   "source": [
    "❓ Your goal is to train a convolutional neural network model to predict the age of a person based solely on a picture of his/her face.\n",
    "- Create your feature matrix `X` as nparray of shape suited for a CNN, scaled between 0 and 1\n",
    "- Create your target vector `y`\n",
    "- Create a holdout set (`X_train`, `y_train`) (`X_test`, `y_test`) keeping `30%` in the test set, randomly sampled out of the whole dataset\n",
    "\n",
    "😌 Don't worry, you will be given the solution in the next question in case you don't make it"
   ]
  },
  {
   "cell_type": "code",
   "execution_count": 8,
   "metadata": {},
   "outputs": [],
   "source": [
    "# from sklearn.preprocessing import MinMaxScaler\n",
    "\n",
    "# X=data['pixels'].to_numpy()\n",
    "# scaler = MinMaxScaler()"
   ]
  },
  {
   "cell_type": "code",
   "execution_count": 9,
   "metadata": {},
   "outputs": [],
   "source": [
    "# def transform(img):\n",
    "#     df = np.fromstring(img, dtype=int, sep=' ')\n",
    "#     scaler = MinMaxScaler()\n",
    "#     return scaler.fit_transform(df)"
   ]
  },
  {
   "cell_type": "code",
   "execution_count": 10,
   "metadata": {},
   "outputs": [],
   "source": [
    "# def transform(img):\n",
    "#     df = np.fromstring(img, dtype=int, sep=' ')\n",
    "#     scaler = MinMaxScaler()\n",
    "#     return scaler.fit_transform(df)\n",
    "# X = pd.Series(list(map(transform, data.pixels))).reshape(48, 48)\n",
    "# y = pd.Series(list(data.age))"
   ]
  },
  {
   "cell_type": "code",
   "execution_count": 11,
   "metadata": {},
   "outputs": [],
   "source": [
    "# from sklearn.model_selection import train_test_split\n",
    "# X_train, X_test, y_train, y_test = train_test_split(X, y, test_size=0.33, random_state=42)"
   ]
  },
  {
   "cell_type": "code",
   "execution_count": 12,
   "metadata": {},
   "outputs": [
    {
     "ename": "NameError",
     "evalue": "name 'X_train' is not defined",
     "output_type": "error",
     "traceback": [
      "\u001b[0;31m---------------------------------------------------------------------------\u001b[0m",
      "\u001b[0;31mNameError\u001b[0m                                 Traceback (most recent call last)",
      "\u001b[0;32m<ipython-input-12-d1556aebac4d>\u001b[0m in \u001b[0;36m<module>\u001b[0;34m\u001b[0m\n\u001b[1;32m      1\u001b[0m \u001b[0;32mfrom\u001b[0m \u001b[0mnbresult\u001b[0m \u001b[0;32mimport\u001b[0m \u001b[0mChallengeResult\u001b[0m\u001b[0;34m\u001b[0m\u001b[0;34m\u001b[0m\u001b[0m\n\u001b[1;32m      2\u001b[0m result = ChallengeResult('C1415', \n\u001b[0;32m----> 3\u001b[0;31m                          \u001b[0mX_train_shape\u001b[0m \u001b[0;34m=\u001b[0m \u001b[0mX_train\u001b[0m\u001b[0;34m.\u001b[0m\u001b[0mshape\u001b[0m\u001b[0;34m,\u001b[0m\u001b[0;34m\u001b[0m\u001b[0;34m\u001b[0m\u001b[0m\n\u001b[0m\u001b[1;32m      4\u001b[0m                          \u001b[0my_train_shape\u001b[0m \u001b[0;34m=\u001b[0m \u001b[0my_train\u001b[0m\u001b[0;34m.\u001b[0m\u001b[0mshape\u001b[0m\u001b[0;34m,\u001b[0m\u001b[0;34m\u001b[0m\u001b[0;34m\u001b[0m\u001b[0m\n\u001b[1;32m      5\u001b[0m                          \u001b[0mfirst_image\u001b[0m \u001b[0;34m=\u001b[0m \u001b[0mX_train\u001b[0m\u001b[0;34m[\u001b[0m\u001b[0;36m0\u001b[0m\u001b[0;34m]\u001b[0m\u001b[0;34m\u001b[0m\u001b[0;34m\u001b[0m\u001b[0m\n",
      "\u001b[0;31mNameError\u001b[0m: name 'X_train' is not defined"
     ]
    }
   ],
   "source": [
    "# from nbresult import ChallengeResult\n",
    "# result = ChallengeResult('C1415', \n",
    "#                          X_train_shape = X_train.shape,\n",
    "#                          y_train_shape = y_train.shape,\n",
    "#                          first_image = X_train[0]\n",
    "#                         )\n",
    "# result.write()"
   ]
  },
  {
   "cell_type": "markdown",
   "metadata": {
    "id": "3bSHDYC8OlrL"
   },
   "source": [
    "## Convolutional Neural Network for Age prediction"
   ]
  },
  {
   "cell_type": "markdown",
   "metadata": {},
   "source": [
    "❓ Build a convolutional neural network\n",
    "\n",
    "- Do not use transfer learning\n",
    "- Store number of trainable parameters in a variable `params_number`\n",
    "- Plot your metric & loss at each epoch\n",
    "- make sure your model does not overfit with appropriate control techniques\n",
    "- Compute the mean absolute error on your test set and store it as `mae_test`\n",
    "- Compute, store and compare it with a `mae_baseline`\n",
    "\n",
    "💡 You will not be judged by the computing power of your computer, but you should obtain significantly better performance than the baseline in less than 3 minutes, even without GPUs"
   ]
  },
  {
   "cell_type": "markdown",
   "metadata": {},
   "source": [
    "👉 Feel free to start back from the solution by running the cell below (~500Mo download)"
   ]
  },
  {
   "cell_type": "code",
   "execution_count": 13,
   "metadata": {},
   "outputs": [
    {
     "name": "stdout",
     "output_type": "stream",
     "text": [
      "  % Total    % Received % Xferd  Average Speed   Time    Time     Time  Current\n",
      "                                 Dload  Upload   Total   Spent    Left  Speed\n",
      "100  291M  100  291M    0     0  4162k      0  0:01:11  0:01:11 --:--:-- 3537k  0  0:00:59  0:00:09  0:00:50 5287k 3737k0:00:41  0:00:37 4430k\n",
      "  % Total    % Received % Xferd  Average Speed   Time    Time     Time  Current\n",
      "                                 Dload  Upload   Total   Spent    Left  Speed\n",
      "100  125M  100  125M    0     0  2221k      0  0:00:57  0:00:57 --:--:-- 3022k:00:27 2241k:00:13 2477k\n",
      "  % Total    % Received % Xferd  Average Speed   Time    Time     Time  Current\n",
      "                                 Dload  Upload   Total   Spent    Left  Speed\n",
      "100  129k  100  129k    0     0   241k      0 --:--:-- --:--:-- --:--:--  241k\n",
      "  % Total    % Received % Xferd  Average Speed   Time    Time     Time  Current\n",
      "                                 Dload  Upload   Total   Spent    Left  Speed\n",
      "100 57023  100 57023    0     0   192k      0 --:--:-- --:--:-- --:--:--  191k:-- --:--:-- --:--:--     0\n"
     ]
    }
   ],
   "source": [
    "import pickle\n",
    "\n",
    "file_names = [\"images_X_train.pickle\", \"images_X_test.pickle\", \"images_y_train.pickle\", \"images_y_test.pickle\"]\n",
    "pickles = dict()\n",
    "\n",
    "for file_name in file_names:\n",
    "    url = f\"https://wagon-public-datasets.s3.amazonaws.com/certification_paris_2021Q1/{file_name}\"\n",
    "    command = f\"curl --output {file_name} {url}\"\n",
    "    ! eval {command}\n",
    "    with open(file_name, 'rb') as handle:\n",
    "        pickles[file_name] = pickle.load(handle)\n",
    "    command = f\"rm {file_name}\"\n",
    "    ! eval {command}\n",
    "        \n",
    "X_train, X_test, y_train, y_test = pickles.values()"
   ]
  },
  {
   "cell_type": "markdown",
   "metadata": {},
   "source": [
    "Baseline model"
   ]
  },
  {
   "cell_type": "code",
   "execution_count": 32,
   "metadata": {},
   "outputs": [
    {
     "name": "stdout",
     "output_type": "stream",
     "text": [
      "Epoch 1/30\n",
      "363/363 [==============================] - 12s 31ms/step - loss: 522.9673 - mae: 17.5772 - val_loss: 303.1076 - val_mae: 14.1194\n",
      "Epoch 2/30\n",
      "363/363 [==============================] - 11s 29ms/step - loss: 263.2560 - mae: 12.5918 - val_loss: 276.0196 - val_mae: 11.9873\n",
      "Epoch 3/30\n",
      "363/363 [==============================] - 10s 28ms/step - loss: 231.9268 - mae: 11.5019 - val_loss: 219.9538 - val_mae: 10.9447\n",
      "Epoch 4/30\n",
      "363/363 [==============================] - 11s 29ms/step - loss: 215.4502 - mae: 11.0705 - val_loss: 204.6065 - val_mae: 10.6867\n",
      "Epoch 5/30\n",
      "363/363 [==============================] - 11s 30ms/step - loss: 197.7534 - mae: 10.5264 - val_loss: 181.2766 - val_mae: 9.8580\n",
      "Epoch 6/30\n",
      "363/363 [==============================] - 11s 30ms/step - loss: 171.3908 - mae: 9.6192 - val_loss: 171.2138 - val_mae: 9.6466\n",
      "Epoch 7/30\n",
      "363/363 [==============================] - 11s 30ms/step - loss: 157.7915 - mae: 9.1990 - val_loss: 185.8206 - val_mae: 10.4770\n",
      "Epoch 8/30\n",
      "363/363 [==============================] - 11s 31ms/step - loss: 148.0557 - mae: 8.7813 - val_loss: 146.9401 - val_mae: 8.6619\n",
      "Epoch 9/30\n",
      "363/363 [==============================] - 11s 30ms/step - loss: 141.0642 - mae: 8.6131 - val_loss: 137.8979 - val_mae: 8.3710\n",
      "Epoch 10/30\n",
      "363/363 [==============================] - 11s 30ms/step - loss: 127.2579 - mae: 8.1809 - val_loss: 140.6152 - val_mae: 8.5472\n",
      "Epoch 11/30\n",
      "363/363 [==============================] - 11s 30ms/step - loss: 120.3995 - mae: 7.9540 - val_loss: 153.9734 - val_mae: 8.8006\n"
     ]
    }
   ],
   "source": [
    "import tensorflow as tf\n",
    "from tensorflow.keras.callbacks import EarlyStopping\n",
    "from sklearn.metrics import mean_absolute_error\n",
    "from keras.models import Sequential\n",
    "from tensorflow.keras import layers\n",
    "from tensorflow.keras.layers import Dense\n",
    "from tensorflow.keras import models\n",
    "from keras.layers import convolutional \n",
    "from keras.layers import pooling\n",
    "import tensorflow as tf\n",
    "from tensorflow import keras\n",
    "from tensorflow.keras.optimizers import Adam\n",
    "\n",
    "  \n",
    "model = models.Sequential()\n",
    "es = EarlyStopping(patience=2, restore_best_weights=True)\n",
    "# input\n",
    "\n",
    "model.add(layers.Conv2D(32, (3,3), input_shape=(48, 48, 1),activation='relu'))\n",
    "model.add(layers.MaxPool2D(pool_size=(2,2))) \n",
    "# layers\n",
    "model.add(layers.Conv2D(12, (3,3), activation='relu'))\n",
    "model.add(layers.MaxPool2D(pool_size=(2,2)))\n",
    "\n",
    "model.add(layers.Flatten())\n",
    "model.add(layers.Dense(50, activation='relu'))\n",
    "model.add(layers.Dense(20, activation='relu'))\n",
    "model.add(layers.Dense(1, activation='linear'))\n",
    "\n",
    "\n",
    "model.compile(optimizer = Adam(learning_rate=0.005),\n",
    "    loss=keras.losses.MSE,\n",
    "    metrics=[\"mae\"])\n",
    "\n",
    "history = model.fit(X_train, y_train, \n",
    "                    batch_size=32, \n",
    "                    epochs=30,\n",
    "                    validation_split=0.3,\n",
    "                    callbacks=[es])"
   ]
  },
  {
   "cell_type": "code",
   "execution_count": 33,
   "metadata": {},
   "outputs": [
    {
     "data": {
      "text/plain": [
       "15.322046662802459"
      ]
     },
     "execution_count": 33,
     "metadata": {},
     "output_type": "execute_result"
    }
   ],
   "source": [
    "mae_baseline = pd.Series(y_test).apply(lambda x : abs(data.age.mean() - x)).mean()\n",
    "mae_baseline"
   ]
  },
  {
   "cell_type": "code",
   "execution_count": 34,
   "metadata": {},
   "outputs": [
    {
     "name": "stdout",
     "output_type": "stream",
     "text": [
      "223/223 [==============================] - 1s 4ms/step - loss: 129.5674 - mae: 8.1897\n"
     ]
    },
    {
     "data": {
      "text/plain": [
       "8.18968391418457"
      ]
     },
     "execution_count": 34,
     "metadata": {},
     "output_type": "execute_result"
    }
   ],
   "source": [
    "mae_test = model.evaluate(X_test, y_test, verbose=1,batch_size=32)[1]\n",
    "mae_test"
   ]
  },
  {
   "cell_type": "code",
   "execution_count": 35,
   "metadata": {},
   "outputs": [],
   "source": [
    "params_number=model.count_params()"
   ]
  },
  {
   "cell_type": "code",
   "execution_count": 36,
   "metadata": {},
   "outputs": [
    {
     "data": {
      "image/png": "[encoded data removed]",
      "text/plain": [
       "<Figure size 432x288 with 1 Axes>"
      ]
     },
     "metadata": {
      "needs_background": "light"
     },
     "output_type": "display_data"
    }
   ],
   "source": [
    "from matplotlib import pyplot as plt\n",
    "plt.plot(history.history['mae'])\n",
    "plt.plot(history.history['val_mae'])\n",
    "plt.title('model mae')\n",
    "plt.ylabel('mae')\n",
    "plt.xlabel('epoch')\n",
    "plt.legend(['train', 'val'], loc='upper left')\n",
    "plt.show()"
   ]
  },
  {
   "cell_type": "code",
   "execution_count": 41,
   "metadata": {},
   "outputs": [
    {
     "data": {
      "image/png": "[encoded data removed]",
      "text/plain": [
       "<Figure size 432x288 with 1 Axes>"
      ]
     },
     "metadata": {
      "needs_background": "light"
     },
     "output_type": "display_data"
    }
   ],
   "source": [
    "plt.plot(history.history['loss'])\n",
    "plt.plot(history.history['val_loss'])\n",
    "plt.title('model loss')\n",
    "plt.ylabel('loss')\n",
    "plt.xlabel('epoch')\n",
    "plt.legend(['train', 'val'], loc='upper left')\n",
    "plt.show()"
   ]
  },
  {
   "cell_type": "code",
   "execution_count": 42,
   "metadata": {},
   "outputs": [],
   "source": [
    "from nbresult import ChallengeResult\n",
    "result = ChallengeResult('C1516',\n",
    "                         params_number=params_number,\n",
    "                         mae_baseline = mae_baseline,\n",
    "                         mae_test = mae_test,\n",
    "                        )\n",
    "result.write()"
   ]
  }
 ],
 "metadata": {
  "accelerator": "GPU",
  "colab": {
   "authorship_tag": "ABX9TyMOYn4GJAg9EKtu1bGhcoI1",
   "collapsed_sections": [],
   "name": "certification_DL_images",
   "provenance": [],
   "toc_visible": true
  },
  "kernelspec": {
   "display_name": "Python 3",
   "language": "python",
   "name": "python3"
  },
  "language_info": {
   "codemirror_mode": {
    "name": "ipython",
    "version": 3
   },
   "file_extension": ".py",
   "mimetype": "text/x-python",
   "name": "python",
   "nbconvert_exporter": "python",
   "pygments_lexer": "ipython3",
   "version": "3.8.6"
  },
  "toc": {
   "base_numbering": 1,
   "nav_menu": {},
   "number_sections": false,
   "sideBar": true,
   "skip_h1_title": false,
   "title_cell": "Table of Contents",
   "title_sidebar": "Contents",
   "toc_cell": false,
   "toc_position": {
    "height": "calc(100% - 180px)",
    "left": "10px",
    "top": "150px",
    "width": "165px"
   },
   "toc_section_display": true,
   "toc_window_display": true
  }
 },
 "nbformat": 4,
 "nbformat_minor": 1
}
