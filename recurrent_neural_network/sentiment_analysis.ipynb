{
 "cells": [
  {
   "cell_type": "markdown",
   "metadata": {},
   "source": [
    "# Binary Sentiment Analysis of French Movie Reviews"
   ]
  },
  {
   "cell_type": "markdown",
   "metadata": {
    "id": "WDsXJRI3Wfrv"
   },
   "source": [
    "### Objectives\n",
    "1. Text cleaning\n",
    "2. Text preprocessing for custom embedding Neural Network\n",
    "3. Train RNN model for sentiment analysis\n",
    "\n",
    "⚠️ This notebook will be your final deliverable. \n",
    "- Make sure it can run \"restart and run all\"\n",
    "- Delete useless code cells\n",
    "- Do not \"clear output\""
   ]
  },
  {
   "cell_type": "markdown",
   "metadata": {
    "id": "xvwURl10Wmw1"
   },
   "source": [
    "# 0. Load data"
   ]
  },
  {
   "cell_type": "markdown",
   "metadata": {},
   "source": [
    "Our dataset contains 30,000 french reviews of movies, along with the binary class 1 (positive) or 0 (negative) score"
   ]
  },
  {
   "cell_type": "code",
   "execution_count": 1,
   "metadata": {},
   "outputs": [],
   "source": [
    "import pandas as pd"
   ]
  },
  {
   "cell_type": "code",
   "execution_count": 2,
   "metadata": {
    "executionInfo": {
     "elapsed": 8472,
     "status": "ok",
     "timestamp": 1615382505157,
     "user": {
      "displayName": "Bruno Lajoie",
      "photoUrl": "https://lh3.googleusercontent.com/a-/AOh14Gg0dl6gThG8gOPbCvHbgt62zQnsi8cgbQ7C5HkD_Cg=s64",
      "userId": "15793030209206844069"
     },
     "user_tz": -60
    },
    "id": "IufC0UUhxyGC"
   },
   "outputs": [
    {
     "data": {
      "text/html": [
       "<div>\n",
       "<style scoped>\n",
       "    .dataframe tbody tr th:only-of-type {\n",
       "        vertical-align: middle;\n",
       "    }\n",
       "\n",
       "    .dataframe tbody tr th {\n",
       "        vertical-align: top;\n",
       "    }\n",
       "\n",
       "    .dataframe thead th {\n",
       "        text-align: right;\n",
       "    }\n",
       "</style>\n",
       "<table border=\"1\" class=\"dataframe\">\n",
       "  <thead>\n",
       "    <tr style=\"text-align: right;\">\n",
       "      <th></th>\n",
       "      <th>review</th>\n",
       "      <th>polarity</th>\n",
       "    </tr>\n",
       "  </thead>\n",
       "  <tbody>\n",
       "    <tr>\n",
       "      <th>0</th>\n",
       "      <td>Ça commence à devenir énervant d'avoir l'impre...</td>\n",
       "      <td>0</td>\n",
       "    </tr>\n",
       "    <tr>\n",
       "      <th>1</th>\n",
       "      <td>J'ai aimé ce film, si il ressemble a un docume...</td>\n",
       "      <td>1</td>\n",
       "    </tr>\n",
       "    <tr>\n",
       "      <th>2</th>\n",
       "      <td>Une grosse merde ce haneke ce faire produire p...</td>\n",
       "      <td>0</td>\n",
       "    </tr>\n",
       "    <tr>\n",
       "      <th>3</th>\n",
       "      <td>Beau mélodrame magnifiquement photographié, \"V...</td>\n",
       "      <td>1</td>\n",
       "    </tr>\n",
       "    <tr>\n",
       "      <th>4</th>\n",
       "      <td>A la poursuite du diamant vers est un film pro...</td>\n",
       "      <td>1</td>\n",
       "    </tr>\n",
       "    <tr>\n",
       "      <th>...</th>\n",
       "      <td>...</td>\n",
       "      <td>...</td>\n",
       "    </tr>\n",
       "    <tr>\n",
       "      <th>29946</th>\n",
       "      <td>Le meilleur film de super-héros derrière le ba...</td>\n",
       "      <td>1</td>\n",
       "    </tr>\n",
       "    <tr>\n",
       "      <th>29947</th>\n",
       "      <td>Un drame qui est d'une efficacité remarquable....</td>\n",
       "      <td>1</td>\n",
       "    </tr>\n",
       "    <tr>\n",
       "      <th>29948</th>\n",
       "      <td>Une daube hollywoodienne de plus, aucun intérê...</td>\n",
       "      <td>0</td>\n",
       "    </tr>\n",
       "    <tr>\n",
       "      <th>29949</th>\n",
       "      <td>Et voilà un nouveau biopic sur la star du X Li...</td>\n",
       "      <td>0</td>\n",
       "    </tr>\n",
       "    <tr>\n",
       "      <th>29950</th>\n",
       "      <td>Un film qui fait vieux, avec des acteurs pas t...</td>\n",
       "      <td>0</td>\n",
       "    </tr>\n",
       "  </tbody>\n",
       "</table>\n",
       "<p>29951 rows × 2 columns</p>\n",
       "</div>"
      ],
      "text/plain": [
       "                                                  review  polarity\n",
       "0      Ça commence à devenir énervant d'avoir l'impre...         0\n",
       "1      J'ai aimé ce film, si il ressemble a un docume...         1\n",
       "2      Une grosse merde ce haneke ce faire produire p...         0\n",
       "3      Beau mélodrame magnifiquement photographié, \"V...         1\n",
       "4      A la poursuite du diamant vers est un film pro...         1\n",
       "...                                                  ...       ...\n",
       "29946  Le meilleur film de super-héros derrière le ba...         1\n",
       "29947  Un drame qui est d'une efficacité remarquable....         1\n",
       "29948  Une daube hollywoodienne de plus, aucun intérê...         0\n",
       "29949  Et voilà un nouveau biopic sur la star du X Li...         0\n",
       "29950  Un film qui fait vieux, avec des acteurs pas t...         0\n",
       "\n",
       "[29951 rows x 2 columns]"
      ]
     },
     "execution_count": 2,
     "metadata": {},
     "output_type": "execute_result"
    }
   ],
   "source": [
    "# We load the dataset for you\n",
    "data = pd.read_csv('https://wagon-public-datasets.s3.amazonaws.com/certification_paris_2021Q1/movies.csv')\n",
    "data"
   ]
  },
  {
   "cell_type": "code",
   "execution_count": 3,
   "metadata": {
    "executionInfo": {
     "elapsed": 8472,
     "status": "ok",
     "timestamp": 1615382505157,
     "user": {
      "displayName": "Bruno Lajoie",
      "photoUrl": "https://lh3.googleusercontent.com/a-/AOh14Gg0dl6gThG8gOPbCvHbgt62zQnsi8cgbQ7C5HkD_Cg=s64",
      "userId": "15793030209206844069"
     },
     "user_tz": -60
    },
    "id": "IufC0UUhxyGC"
   },
   "outputs": [
    {
     "name": "stdout",
     "output_type": "stream",
     "text": [
      "1    15051\n",
      "0    14900\n",
      "Name: polarity, dtype: int64\n"
     ]
    }
   ],
   "source": [
    "# We create features\n",
    "y = data.polarity\n",
    "X = data.review\n",
    "\n",
    "# We analyse class balance\n",
    "print(pd.value_counts(y))"
   ]
  },
  {
   "cell_type": "code",
   "execution_count": 4,
   "metadata": {
    "executionInfo": {
     "elapsed": 544,
     "status": "ok",
     "timestamp": 1615383356787,
     "user": {
      "displayName": "Bruno Lajoie",
      "photoUrl": "https://lh3.googleusercontent.com/a-/AOh14Gg0dl6gThG8gOPbCvHbgt62zQnsi8cgbQ7C5HkD_Cg=s64",
      "userId": "15793030209206844069"
     },
     "user_tz": -60
    },
    "id": "yzIpNmSg0XV4"
   },
   "outputs": [
    {
     "name": "stdout",
     "output_type": "stream",
     "text": [
      "polarity: 0 \n",
      "\n",
      "Ça commence à devenir énervant d'avoir l'impression de voir et revoir le même genre de film à savoir : la comédie romantique, surement le genre le plus prolifique de le production française actuelle. Le problème c'est que l'on a souvent affaire à des niaiseries de faible niveau comme celui ci. Avec un scenario ultra balisé et conventionnel, c'est à se demander comment ça peut passer les portes d'un producteur. Bref cette sempiternel histoire d'un homme mentant au nom de l'amour pour reconquérir une femme et qui à la fin se prend son mensonge en pleine figure est d'une originalité affligeante, et ce n'est pas la présence au casting de l'ex miss météo Charlotte Le Bon qui rêve surement d'avoir la même carrière que Louise Bourgoin qui change la donne.\n"
     ]
    }
   ],
   "source": [
    "# We check various reviews\n",
    "print(f'polarity: {y[0]} \\n')\n",
    "print(X[0])"
   ]
  },
  {
   "cell_type": "markdown",
   "metadata": {},
   "source": [
    "# 1. Clean Text"
   ]
  },
  {
   "cell_type": "markdown",
   "metadata": {},
   "source": [
    "❓ We need to give a _quick & dirty_ cleaning to all the sentences in the dataset. Create a variable `X_clean` of similar shape, but with the following cleaning:\n",
    "- Replace french accents by their non-accentuated equivalent using the [unidecode.unidecode()](https://pypi.org/project/Unidecode/) method\n",
    "- Reduce all uppercases to lowercases\n",
    "- Remove any characters outside of a-z, for instance using `string.isalpha()`\n",
    "\n",
    "😌 You will be given the solution `X_clean` in the next question to make sure you can complete the challenge"
   ]
  },
  {
   "cell_type": "code",
   "execution_count": 5,
   "metadata": {
    "scrolled": true
   },
   "outputs": [],
   "source": [
    "### YOUR CODE\n",
    "import unidecode\n",
    "def encode(text):\n",
    "    no_accent = unidecode.unidecode(text)\n",
    "    return no_accent\n",
    "data['clean_text']=data.review.apply(lambda x:encode(x))"
   ]
  },
  {
   "cell_type": "code",
   "execution_count": 6,
   "metadata": {},
   "outputs": [],
   "source": [
    "def lowercase(text): \n",
    "    lowercased = text.lower() \n",
    "    return lowercased\n",
    "\n",
    "data['clean_text'] = data.clean_text.apply(lowercase)\n"
   ]
  },
  {
   "cell_type": "code",
   "execution_count": 7,
   "metadata": {},
   "outputs": [],
   "source": [
    "import re\n",
    "def remove_nonalpha(text):\n",
    "    text = ''.join(c for c in text if c.isalpha() or c == ' ')\n",
    "    return re.sub(\" +\", \" \", text)\n",
    "X_clean = data.clean_text.apply(lambda text: remove_nonalpha(text))"
   ]
  },
  {
   "cell_type": "code",
   "execution_count": 8,
   "metadata": {},
   "outputs": [],
   "source": [
    "from nbresult import ChallengeResult\n",
    "\n",
    "result = ChallengeResult('C14',\n",
    "    shape = X_clean.shape,\n",
    "    first_sentence = X_clean[0]\n",
    ")\n",
    "result.write()"
   ]
  },
  {
   "cell_type": "markdown",
   "metadata": {},
   "source": [
    "# 2. Preprocess data"
   ]
  },
  {
   "cell_type": "markdown",
   "metadata": {},
   "source": [
    "Now that we have clean sentences, we need to convert each one into a list of integers of fixed size\n",
    "- For example, the sentence: `\"this was good\"` should become something like `array([1, 3, 18, 0, 0, 0, ...0], dtype=int32)` where each integer match to a each _unique_ word in your corpus of sentences.\n",
    "\n",
    "❓ Create a numpy ndarray `X_input` of shape (29951, 100) that will be the direct input to your Neutral Network. \n",
    "\n",
    "- 29951 represents the number of reviews in the dataset `X_clean`\n",
    "- 100 represents the maximum number of words to keep for each movie review.\n",
    "- It must contain only numerical values, without any `NaN`\n",
    "- In the process, compute and save the number of _unique_ words in your cleaned corpus under `vocab_size` variable"
   ]
  },
  {
   "cell_type": "markdown",
   "metadata": {},
   "source": [
    "👉 First, you **must** start back from the clean solution below (14Mo)"
   ]
  },
  {
   "cell_type": "code",
   "execution_count": 9,
   "metadata": {},
   "outputs": [
    {
     "data": {
      "text/plain": [
       "0        ca commence a devenir enervant de voir et revo...\n",
       "1        aime ce film si il ressemble a un documentaire...\n",
       "2        une grosse merde ce haneke ce faire produire p...\n",
       "3        beau melodrame magnifiquement photographie ver...\n",
       "4        a la poursuite du diamant vers est un film pro...\n",
       "                               ...                        \n",
       "29946    le meilleur film de derriere le batman de nola...\n",
       "29947    un drame qui est efficacite remarquable un fil...\n",
       "29948    une daube hollywoodienne de plus aucun interet...\n",
       "29949    et voila un nouveau biopic sur la star du x li...\n",
       "29950    un film qui fait vieux avec des acteurs pas to...\n",
       "Name: review, Length: 29951, dtype: object"
      ]
     },
     "execution_count": 9,
     "metadata": {},
     "output_type": "execute_result"
    }
   ],
   "source": [
    "X_clean = pd.read_csv(\"https://wagon-public-datasets.s3.amazonaws.com/certification_paris_2021Q1/movies_X_clean.csv\")['review']\n",
    "X_clean"
   ]
  },
  {
   "cell_type": "code",
   "execution_count": 10,
   "metadata": {},
   "outputs": [],
   "source": [
    "### YOUR CODE\n",
    "def convert_sentences(X):\n",
    "    return [sentence.split(' ') for sentence in X]\n",
    "\n",
    "X_clean = convert_sentences(X_clean)"
   ]
  },
  {
   "cell_type": "code",
   "execution_count": 11,
   "metadata": {},
   "outputs": [],
   "source": [
    "from gensim.models import Word2Vec\n",
    "\n",
    "word2vec = Word2Vec(sentences=X_clean, size=100)"
   ]
  },
  {
   "cell_type": "code",
   "execution_count": 12,
   "metadata": {},
   "outputs": [],
   "source": [
    "import numpy as np\n",
    "\n",
    "def embed_sentence(word2vec, sentence):\n",
    "    embedded_sentence = []\n",
    "    for word in sentence:\n",
    "        if word in word2vec.wv:\n",
    "            embedded_sentence.append(word2vec.wv[word])\n",
    "        \n",
    "    return embedded_sentence"
   ]
  },
  {
   "cell_type": "code",
   "execution_count": 13,
   "metadata": {},
   "outputs": [],
   "source": [
    "def embedding(word2vec, sentences):\n",
    "    embed = []\n",
    "    \n",
    "    for sentence in sentences:\n",
    "        embedded_sentence = embed_sentence(word2vec, sentence)\n",
    "        embed.append(embedded_sentence)\n",
    "        \n",
    "    return embed\n",
    "\n",
    "\n",
    "X_clean = embedding(word2vec, X_clean)"
   ]
  },
  {
   "cell_type": "code",
   "execution_count": 18,
   "metadata": {},
   "outputs": [
    {
     "ename": "AttributeError",
     "evalue": "'list' object has no attribute 'lower'",
     "output_type": "error",
     "traceback": [
      "\u001b[0;31m---------------------------------------------------------------------------\u001b[0m",
      "\u001b[0;31mAttributeError\u001b[0m                            Traceback (most recent call last)",
      "\u001b[0;32m<ipython-input-18-a2ae2a2ae887>\u001b[0m in \u001b[0;36m<module>\u001b[0;34m\u001b[0m\n\u001b[1;32m      1\u001b[0m \u001b[0;32mfrom\u001b[0m \u001b[0msklearn\u001b[0m\u001b[0;34m.\u001b[0m\u001b[0mfeature_extraction\u001b[0m\u001b[0;34m.\u001b[0m\u001b[0mtext\u001b[0m \u001b[0;32mimport\u001b[0m \u001b[0mCountVectorizer\u001b[0m\u001b[0;34m\u001b[0m\u001b[0;34m\u001b[0m\u001b[0m\n\u001b[1;32m      2\u001b[0m \u001b[0mvec\u001b[0m \u001b[0;34m=\u001b[0m \u001b[0mCountVectorizer\u001b[0m\u001b[0;34m(\u001b[0m\u001b[0mmax_features\u001b[0m\u001b[0;34m=\u001b[0m\u001b[0;36m100\u001b[0m\u001b[0;34m)\u001b[0m\u001b[0;34m\u001b[0m\u001b[0;34m\u001b[0m\u001b[0m\n\u001b[0;32m----> 3\u001b[0;31m \u001b[0mX_input\u001b[0m \u001b[0;34m=\u001b[0m \u001b[0mvec\u001b[0m\u001b[0;34m.\u001b[0m\u001b[0mfit_transform\u001b[0m\u001b[0;34m(\u001b[0m\u001b[0mX_clean\u001b[0m\u001b[0;34m)\u001b[0m\u001b[0;34m\u001b[0m\u001b[0;34m\u001b[0m\u001b[0m\n\u001b[0m\u001b[1;32m      4\u001b[0m \u001b[0mX_input\u001b[0m \u001b[0;34m=\u001b[0m \u001b[0mX_input\u001b[0m\u001b[0;34m.\u001b[0m\u001b[0mtoarray\u001b[0m\u001b[0;34m(\u001b[0m\u001b[0;34m)\u001b[0m\u001b[0;34m\u001b[0m\u001b[0;34m\u001b[0m\u001b[0m\n",
      "\u001b[0;32m~/.pyenv/versions/3.8.6/envs/backintheussr/lib/python3.8/site-packages/sklearn/feature_extraction/text.py\u001b[0m in \u001b[0;36mfit_transform\u001b[0;34m(self, raw_documents, y)\u001b[0m\n\u001b[1;32m   1196\u001b[0m         \u001b[0mmax_features\u001b[0m \u001b[0;34m=\u001b[0m \u001b[0mself\u001b[0m\u001b[0;34m.\u001b[0m\u001b[0mmax_features\u001b[0m\u001b[0;34m\u001b[0m\u001b[0;34m\u001b[0m\u001b[0m\n\u001b[1;32m   1197\u001b[0m \u001b[0;34m\u001b[0m\u001b[0m\n\u001b[0;32m-> 1198\u001b[0;31m         vocabulary, X = self._count_vocab(raw_documents,\n\u001b[0m\u001b[1;32m   1199\u001b[0m                                           self.fixed_vocabulary_)\n\u001b[1;32m   1200\u001b[0m \u001b[0;34m\u001b[0m\u001b[0m\n",
      "\u001b[0;32m~/.pyenv/versions/3.8.6/envs/backintheussr/lib/python3.8/site-packages/sklearn/feature_extraction/text.py\u001b[0m in \u001b[0;36m_count_vocab\u001b[0;34m(self, raw_documents, fixed_vocab)\u001b[0m\n\u001b[1;32m   1108\u001b[0m         \u001b[0;32mfor\u001b[0m \u001b[0mdoc\u001b[0m \u001b[0;32min\u001b[0m \u001b[0mraw_documents\u001b[0m\u001b[0;34m:\u001b[0m\u001b[0;34m\u001b[0m\u001b[0;34m\u001b[0m\u001b[0m\n\u001b[1;32m   1109\u001b[0m             \u001b[0mfeature_counter\u001b[0m \u001b[0;34m=\u001b[0m \u001b[0;34m{\u001b[0m\u001b[0;34m}\u001b[0m\u001b[0;34m\u001b[0m\u001b[0;34m\u001b[0m\u001b[0m\n\u001b[0;32m-> 1110\u001b[0;31m             \u001b[0;32mfor\u001b[0m \u001b[0mfeature\u001b[0m \u001b[0;32min\u001b[0m \u001b[0manalyze\u001b[0m\u001b[0;34m(\u001b[0m\u001b[0mdoc\u001b[0m\u001b[0;34m)\u001b[0m\u001b[0;34m:\u001b[0m\u001b[0;34m\u001b[0m\u001b[0;34m\u001b[0m\u001b[0m\n\u001b[0m\u001b[1;32m   1111\u001b[0m                 \u001b[0;32mtry\u001b[0m\u001b[0;34m:\u001b[0m\u001b[0;34m\u001b[0m\u001b[0;34m\u001b[0m\u001b[0m\n\u001b[1;32m   1112\u001b[0m                     \u001b[0mfeature_idx\u001b[0m \u001b[0;34m=\u001b[0m \u001b[0mvocabulary\u001b[0m\u001b[0;34m[\u001b[0m\u001b[0mfeature\u001b[0m\u001b[0;34m]\u001b[0m\u001b[0;34m\u001b[0m\u001b[0;34m\u001b[0m\u001b[0m\n",
      "\u001b[0;32m~/.pyenv/versions/3.8.6/envs/backintheussr/lib/python3.8/site-packages/sklearn/feature_extraction/text.py\u001b[0m in \u001b[0;36m_analyze\u001b[0;34m(doc, analyzer, tokenizer, ngrams, preprocessor, decoder, stop_words)\u001b[0m\n\u001b[1;32m    102\u001b[0m     \u001b[0;32melse\u001b[0m\u001b[0;34m:\u001b[0m\u001b[0;34m\u001b[0m\u001b[0;34m\u001b[0m\u001b[0m\n\u001b[1;32m    103\u001b[0m         \u001b[0;32mif\u001b[0m \u001b[0mpreprocessor\u001b[0m \u001b[0;32mis\u001b[0m \u001b[0;32mnot\u001b[0m \u001b[0;32mNone\u001b[0m\u001b[0;34m:\u001b[0m\u001b[0;34m\u001b[0m\u001b[0;34m\u001b[0m\u001b[0m\n\u001b[0;32m--> 104\u001b[0;31m             \u001b[0mdoc\u001b[0m \u001b[0;34m=\u001b[0m \u001b[0mpreprocessor\u001b[0m\u001b[0;34m(\u001b[0m\u001b[0mdoc\u001b[0m\u001b[0;34m)\u001b[0m\u001b[0;34m\u001b[0m\u001b[0;34m\u001b[0m\u001b[0m\n\u001b[0m\u001b[1;32m    105\u001b[0m         \u001b[0;32mif\u001b[0m \u001b[0mtokenizer\u001b[0m \u001b[0;32mis\u001b[0m \u001b[0;32mnot\u001b[0m \u001b[0;32mNone\u001b[0m\u001b[0;34m:\u001b[0m\u001b[0;34m\u001b[0m\u001b[0;34m\u001b[0m\u001b[0m\n\u001b[1;32m    106\u001b[0m             \u001b[0mdoc\u001b[0m \u001b[0;34m=\u001b[0m \u001b[0mtokenizer\u001b[0m\u001b[0;34m(\u001b[0m\u001b[0mdoc\u001b[0m\u001b[0;34m)\u001b[0m\u001b[0;34m\u001b[0m\u001b[0;34m\u001b[0m\u001b[0m\n",
      "\u001b[0;32m~/.pyenv/versions/3.8.6/envs/backintheussr/lib/python3.8/site-packages/sklearn/feature_extraction/text.py\u001b[0m in \u001b[0;36m_preprocess\u001b[0;34m(doc, accent_function, lower)\u001b[0m\n\u001b[1;32m     67\u001b[0m     \"\"\"\n\u001b[1;32m     68\u001b[0m     \u001b[0;32mif\u001b[0m \u001b[0mlower\u001b[0m\u001b[0;34m:\u001b[0m\u001b[0;34m\u001b[0m\u001b[0;34m\u001b[0m\u001b[0m\n\u001b[0;32m---> 69\u001b[0;31m         \u001b[0mdoc\u001b[0m \u001b[0;34m=\u001b[0m \u001b[0mdoc\u001b[0m\u001b[0;34m.\u001b[0m\u001b[0mlower\u001b[0m\u001b[0;34m(\u001b[0m\u001b[0;34m)\u001b[0m\u001b[0;34m\u001b[0m\u001b[0;34m\u001b[0m\u001b[0m\n\u001b[0m\u001b[1;32m     70\u001b[0m     \u001b[0;32mif\u001b[0m \u001b[0maccent_function\u001b[0m \u001b[0;32mis\u001b[0m \u001b[0;32mnot\u001b[0m \u001b[0;32mNone\u001b[0m\u001b[0;34m:\u001b[0m\u001b[0;34m\u001b[0m\u001b[0;34m\u001b[0m\u001b[0m\n\u001b[1;32m     71\u001b[0m         \u001b[0mdoc\u001b[0m \u001b[0;34m=\u001b[0m \u001b[0maccent_function\u001b[0m\u001b[0;34m(\u001b[0m\u001b[0mdoc\u001b[0m\u001b[0;34m)\u001b[0m\u001b[0;34m\u001b[0m\u001b[0;34m\u001b[0m\u001b[0m\n",
      "\u001b[0;31mAttributeError\u001b[0m: 'list' object has no attribute 'lower'"
     ]
    }
   ],
   "source": [
    "from sklearn.feature_extraction.text import CountVectorizer\n",
    "bag_of_words = CountVectorizer(tokenizer=lambda doc: doc, lowercase=False).fit_transform(splited_labels_from_corpus)\n",
    "\n",
    "vec = CountVectorizer(max_features=100)\n",
    "X_input = CountVectorizer(tokenizer=lambda doc: doc, lowercase=False).fit_transform(X_clean)\n",
    "X_input = X_input.toarray()"
   ]
  },
  {
   "cell_type": "code",
   "execution_count": 15,
   "metadata": {},
   "outputs": [
    {
     "ename": "NameError",
     "evalue": "name 'X_input' is not defined",
     "output_type": "error",
     "traceback": [
      "\u001b[0;31m---------------------------------------------------------------------------\u001b[0m",
      "\u001b[0;31mNameError\u001b[0m                                 Traceback (most recent call last)",
      "\u001b[0;32m<ipython-input-15-60b5df55333a>\u001b[0m in \u001b[0;36m<module>\u001b[0;34m\u001b[0m\n\u001b[0;32m----> 1\u001b[0;31m \u001b[0mnp\u001b[0m\u001b[0;34m.\u001b[0m\u001b[0misnan\u001b[0m\u001b[0;34m(\u001b[0m\u001b[0mX_input\u001b[0m\u001b[0;34m)\u001b[0m\u001b[0;34m.\u001b[0m\u001b[0msum\u001b[0m\u001b[0;34m(\u001b[0m\u001b[0;34m)\u001b[0m\u001b[0;34m\u001b[0m\u001b[0;34m\u001b[0m\u001b[0m\n\u001b[0m",
      "\u001b[0;31mNameError\u001b[0m: name 'X_input' is not defined"
     ]
    }
   ],
   "source": [
    "np.isnan(X_input).sum()"
   ]
  },
  {
   "cell_type": "code",
   "execution_count": null,
   "metadata": {},
   "outputs": [],
   "source": [
    "from nbresult import ChallengeResult\n",
    "\n",
    "result = ChallengeResult('C1415',\n",
    "    type_X = type(X_input),\n",
    "    shape = X_input.shape, \n",
    "    input_1 = X_input[1], \n",
    ")\n",
    "result.write()"
   ]
  },
  {
   "cell_type": "markdown",
   "metadata": {
    "id": "PjM5UP5ZMbY_"
   },
   "source": [
    "# 3. Neural Network"
   ]
  },
  {
   "cell_type": "markdown",
   "metadata": {},
   "source": [
    "❓Create and fit a Neural Netork that takes `X_input` and `y` as input, to binary classify each sentence's sentiment\n",
    "\n",
    "- You cannot use transfer learning or other pre-existing Word2Vec models\n",
    "- You must use a \"recurrent\" architecture to _capture_ a notion of order in the sentences' words\n",
    "- The performance metrics for this task is \"accuracy\"\n",
    "- Store your model in a variable `model` \n",
    "- Store the result your `model.fit()` in a variable `history`. \n",
    "- ⚠️ `history.history` must comprises a measure of the `val_accuracy` at each epoch.\n",
    "- You don't need to cross-validate your model\n",
    "\n",
    "😌 Don't worry, you will not be judged on your computer power: You should be able to reach accuracy significantly better than baseline in less than 3 minutes even without GPUs."
   ]
  },
  {
   "cell_type": "markdown",
   "metadata": {},
   "source": [
    "👉 But first, you **must** start back from the solution below (70Mo)"
   ]
  },
  {
   "cell_type": "code",
   "execution_count": 16,
   "metadata": {},
   "outputs": [],
   "source": [
    "url = 'https://wagon-public-datasets.s3.amazonaws.com/certification_paris_2021Q1/movies_X_input.csv'\n",
    "X_input = np.genfromtxt(url, delimiter=',', dtype='int32')"
   ]
  },
  {
   "cell_type": "code",
   "execution_count": 38,
   "metadata": {},
   "outputs": [],
   "source": [
    "y=data.polarity"
   ]
  },
  {
   "cell_type": "code",
   "execution_count": 39,
   "metadata": {},
   "outputs": [],
   "source": [
    "from sklearn.model_selection import train_test_split\n",
    "X_train, X_test, y_train, y_test = train_test_split(X_input, y, test_size=0.3, random_state=42)"
   ]
  },
  {
   "cell_type": "code",
   "execution_count": 52,
   "metadata": {},
   "outputs": [],
   "source": [
    "word_to_id = {}\n",
    "iter_ = 1\n",
    "for sentence in X_train:\n",
    "    for word in sentence:\n",
    "        if word in word_to_id:\n",
    "            continue\n",
    "        word_to_id[word] = iter_\n",
    "        iter_ += 1"
   ]
  },
  {
   "cell_type": "code",
   "execution_count": 53,
   "metadata": {},
   "outputs": [],
   "source": [
    "vocab_size = len(word_to_id)"
   ]
  },
  {
   "cell_type": "code",
   "execution_count": 59,
   "metadata": {},
   "outputs": [],
   "source": [
    "def tokenize(sentences, word_to_id):\n",
    "    return [[word_to_id[_] for _ in s if _ in word_to_id] for s in sentences]\n",
    "\n",
    "X_token_train = tokenize(X_train, word_to_id)\n",
    "X_token_test = tokenize(X_test, word_to_id)"
   ]
  },
  {
   "cell_type": "code",
   "execution_count": 60,
   "metadata": {},
   "outputs": [],
   "source": [
    "from tensorflow.keras.preprocessing.sequence import pad_sequences\n",
    "\n",
    "X_train_pad = pad_sequences(X_token_train, dtype='float32', padding='post', value=0, maxlen=100)\n",
    "X_test_pad = pad_sequences(X_token_test, dtype='float32', padding='post', value=0, maxlen=100)"
   ]
  },
  {
   "cell_type": "code",
   "execution_count": 76,
   "metadata": {},
   "outputs": [
    {
     "name": "stdout",
     "output_type": "stream",
     "text": [
      "Epoch 1/30\n",
      "918/918 [==============================] - 28s 30ms/step - loss: 0.6796 - accuracy: 0.5407 - val_loss: 0.6606 - val_accuracy: 0.5697\n",
      "Epoch 2/30\n",
      "918/918 [==============================] - 28s 31ms/step - loss: 0.6552 - accuracy: 0.5716 - val_loss: 0.6598 - val_accuracy: 0.5707\n",
      "Epoch 3/30\n",
      "918/918 [==============================] - 28s 30ms/step - loss: 0.6499 - accuracy: 0.5868 - val_loss: 0.6588 - val_accuracy: 0.5591\n",
      "Epoch 4/30\n",
      "918/918 [==============================] - 27s 30ms/step - loss: 0.6465 - accuracy: 0.5780 - val_loss: 0.6579 - val_accuracy: 0.5710\n",
      "Epoch 5/30\n",
      "918/918 [==============================] - 27s 30ms/step - loss: 0.6418 - accuracy: 0.5890 - val_loss: 0.6599 - val_accuracy: 0.5594\n",
      "Epoch 6/30\n",
      "918/918 [==============================] - 27s 30ms/step - loss: 0.6400 - accuracy: 0.5878 - val_loss: 0.6592 - val_accuracy: 0.5599\n",
      "Epoch 7/30\n",
      "918/918 [==============================] - 27s 30ms/step - loss: 0.6357 - accuracy: 0.5990 - val_loss: 0.6593 - val_accuracy: 0.5719\n",
      "Epoch 8/30\n",
      "918/918 [==============================] - 27s 30ms/step - loss: 0.6341 - accuracy: 0.5915 - val_loss: 0.6629 - val_accuracy: 0.5587\n",
      "Epoch 9/30\n",
      "918/918 [==============================] - 28s 31ms/step - loss: 0.6305 - accuracy: 0.5938 - val_loss: 0.6595 - val_accuracy: 0.5702\n",
      "Epoch 10/30\n",
      "918/918 [==============================] - 27s 30ms/step - loss: 0.6294 - accuracy: 0.6006 - val_loss: 0.6602 - val_accuracy: 0.5708\n",
      "Epoch 11/30\n",
      "918/918 [==============================] - 28s 30ms/step - loss: 0.6263 - accuracy: 0.6036 - val_loss: 0.6624 - val_accuracy: 0.5591\n",
      "Epoch 12/30\n",
      "918/918 [==============================] - 27s 30ms/step - loss: 0.6242 - accuracy: 0.6044 - val_loss: 0.6666 - val_accuracy: 0.5571\n",
      "Epoch 13/30\n",
      "918/918 [==============================] - 28s 30ms/step - loss: 0.6218 - accuracy: 0.6007 - val_loss: 0.6691 - val_accuracy: 0.5568\n",
      "Epoch 14/30\n",
      "918/918 [==============================] - 28s 31ms/step - loss: 0.6216 - accuracy: 0.6012 - val_loss: 0.6644 - val_accuracy: 0.5701\n"
     ]
    }
   ],
   "source": [
    "from tensorflow.keras.layers import SpatialDropout1D\n",
    "\n",
    "es = EarlyStopping(patience=10, restore_best_weights=True)\n",
    "model = Sequential()\n",
    "\n",
    "model.add(layers.Embedding(input_dim=X_train.max(), output_dim=100, mask_zero=True))\n",
    "model.add(SpatialDropout1D(0.2))\n",
    "model.add(layers.Conv1D(filters=64, kernel_size=4, activation='relu', padding='same'))\n",
    "model.add(SpatialDropout1D(0.2))\n",
    "model.add(layers.Dense(32, activation='relu'))\n",
    "model.add(layers.Dense(1, activation='sigmoid'))\n",
    "\n",
    "model.compile(loss='binary_crossentropy',\n",
    "              optimizer='rmsprop', \n",
    "              metrics=['accuracy'])\n",
    "\n",
    "history=model.fit(X_train_pad, y_train,epochs=30,  validation_split=0.3,batch_size=16, callbacks=[es])"
   ]
  },
  {
   "cell_type": "code",
   "execution_count": 77,
   "metadata": {},
   "outputs": [
    {
     "data": {
      "text/plain": [
       "{'loss': [0.6711757779121399,\n",
       "  0.6560041308403015,\n",
       "  0.6512266993522644,\n",
       "  0.6473015546798706,\n",
       "  0.642941951751709,\n",
       "  0.6402326226234436,\n",
       "  0.6371654272079468,\n",
       "  0.6345489025115967,\n",
       "  0.6318196058273315,\n",
       "  0.6299489140510559,\n",
       "  0.6276379227638245,\n",
       "  0.6254269480705261,\n",
       "  0.623933732509613,\n",
       "  0.6218879818916321],\n",
       " 'accuracy': [0.5526991486549377,\n",
       "  0.5724146962165833,\n",
       "  0.5801717042922974,\n",
       "  0.5791414380073547,\n",
       "  0.587884247303009,\n",
       "  0.5876426696777344,\n",
       "  0.5940512418746948,\n",
       "  0.5924978256225586,\n",
       "  0.5968755483627319,\n",
       "  0.59767746925354,\n",
       "  0.598335325717926,\n",
       "  0.6029000282287598,\n",
       "  0.5975493788719177,\n",
       "  0.6000191569328308],\n",
       " 'val_loss': [0.6605668067932129,\n",
       "  0.6598120331764221,\n",
       "  0.658847987651825,\n",
       "  0.6579153537750244,\n",
       "  0.6598529815673828,\n",
       "  0.6591825485229492,\n",
       "  0.6592890620231628,\n",
       "  0.6628679633140564,\n",
       "  0.6594566702842712,\n",
       "  0.6601935625076294,\n",
       "  0.6623965501785278,\n",
       "  0.6665889024734497,\n",
       "  0.6691198945045471,\n",
       "  0.6644095778465271],\n",
       " 'val_accuracy': [0.5697243213653564,\n",
       "  0.5707326531410217,\n",
       "  0.5590853095054626,\n",
       "  0.5710398554801941,\n",
       "  0.5594277381896973,\n",
       "  0.5598907470703125,\n",
       "  0.5719396471977234,\n",
       "  0.5587093234062195,\n",
       "  0.5702025890350342,\n",
       "  0.5707525014877319,\n",
       "  0.559107780456543,\n",
       "  0.5571256875991821,\n",
       "  0.5567514896392822,\n",
       "  0.5701122283935547]}"
      ]
     },
     "execution_count": 77,
     "metadata": {},
     "output_type": "execute_result"
    }
   ],
   "source": [
    "history.history"
   ]
  },
  {
   "cell_type": "code",
   "execution_count": 78,
   "metadata": {},
   "outputs": [],
   "source": [
    "from nbresult import ChallengeResult\n",
    "result = ChallengeResult('C1517',\n",
    "                         history=history.history)\n",
    "result.write()"
   ]
  },
  {
   "cell_type": "code",
   "execution_count": null,
   "metadata": {},
   "outputs": [],
   "source": []
  }
 ],
 "metadata": {
  "accelerator": "GPU",
  "colab": {
   "authorship_tag": "ABX9TyNt966tqZXM2p288pQsUAUV",
   "name": "certification_DL_NLP",
   "provenance": []
  },
  "kernelspec": {
   "display_name": "Python 3",
   "language": "python",
   "name": "python3"
  },
  "language_info": {
   "codemirror_mode": {
    "name": "ipython",
    "version": 3
   },
   "file_extension": ".py",
   "mimetype": "text/x-python",
   "name": "python",
   "nbconvert_exporter": "python",
   "pygments_lexer": "ipython3",
   "version": "3.8.6"
  },
  "toc": {
   "base_numbering": 1,
   "nav_menu": {},
   "number_sections": false,
   "sideBar": true,
   "skip_h1_title": false,
   "title_cell": "Table of Contents",
   "title_sidebar": "Contents",
   "toc_cell": false,
   "toc_position": {
    "height": "calc(100% - 180px)",
    "left": "10px",
    "top": "150px",
    "width": "211.797px"
   },
   "toc_section_display": true,
   "toc_window_display": true
  }
 },
 "nbformat": 4,
 "nbformat_minor": 1
}
